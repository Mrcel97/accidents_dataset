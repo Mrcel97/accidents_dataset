{
 "cells": [
  {
   "cell_type": "code",
   "execution_count": 266,
   "metadata": {},
   "outputs": [],
   "source": [
    "import pandas as pd\n",
    "import numpy as np\n",
    "import fnmatch\n",
    "import matplotlib\n",
    "import matplotlib.pyplot as plt\n",
    "import unidecode\n",
    "import re\n",
    "\n",
    "from os import listdir\n",
    "from os.path import isfile, join"
   ]
  },
  {
   "cell_type": "code",
   "execution_count": 17,
   "metadata": {
    "tags": []
   },
   "outputs": [
    {
     "output_type": "stream",
     "name": "stdout",
     "text": "['2016_accidents.csv']\n"
    }
   ],
   "source": [
    "datasets_path = \"../data/raw/accidents/\"\n",
    "\n",
    "dataset_paths = [file for file in listdir(datasets_path)]\n",
    "\n",
    "print(dataset_paths)"
   ]
  },
  {
   "cell_type": "markdown",
   "metadata": {},
   "source": [
    "# Step 1: Load dataframes data into list of DFs"
   ]
  },
  {
   "cell_type": "code",
   "execution_count": 103,
   "metadata": {
    "tags": []
   },
   "outputs": [],
   "source": [
    "def extract_accident_name(filename):\n",
    "    return filename.split(\"_\")[0]\n",
    "\n",
    "def init_df(file):\n",
    "    name = extract_accident_name(file)\n",
    "    df = pd.read_csv(datasets_path+file)\n",
    "    df[\"name\"] = name\n",
    "    return df\n",
    "\n",
    "accidents_df_list = [init_df(file) for file in dataset_paths]"
   ]
  },
  {
   "cell_type": "markdown",
   "metadata": {},
   "source": [
    "# Step 2: Find wrong/missing data\n",
    "## Step 2.1: Normalize column names\n",
    "    1) Swap space \" \" for underscore \"_\" and remove apostrophe \"'\"\n",
    "    2) Deunicode and lowercase columns names"
   ]
  },
  {
   "cell_type": "code",
   "execution_count": 95,
   "metadata": {
    "tags": []
   },
   "outputs": [
    {
     "output_type": "execute_result",
     "data": {
      "text/plain": "  numero_dexpedient  codi_districte        nom_districte  codi_barri  \\\n0   2016S008630                   5  Sarrià-Sant Gervasi          22   \n\n                               nom_barri  codi_carrer   nom_carrer  \\\n0  Vallvidrera, el Tibidabo i les Planes       202050  Mas Guimbau   \n\n  num_postal_caption descripcio_dia_setmana dia_setmana  ... descripcio_sexe  \\\n0         0001B0001B                 Dijous          Dj  ...            Home   \n\n   edat  descripcio_tipus_persona descripcio_situacio  \\\n0    29                 Conductor          Presentado   \n\n   descripcio_victimitzacio coordenada_utm_(x)  coordenada_utm_(y)      long  \\\n0                Ferit lleu          424249,09          4586527,04  2.092323   \n\n         lat  name  \n0  41.424889  2016  \n\n[1 rows x 29 columns]",
      "text/html": "<div>\n<style scoped>\n    .dataframe tbody tr th:only-of-type {\n        vertical-align: middle;\n    }\n\n    .dataframe tbody tr th {\n        vertical-align: top;\n    }\n\n    .dataframe thead th {\n        text-align: right;\n    }\n</style>\n<table border=\"1\" class=\"dataframe\">\n  <thead>\n    <tr style=\"text-align: right;\">\n      <th></th>\n      <th>numero_dexpedient</th>\n      <th>codi_districte</th>\n      <th>nom_districte</th>\n      <th>codi_barri</th>\n      <th>nom_barri</th>\n      <th>codi_carrer</th>\n      <th>nom_carrer</th>\n      <th>num_postal_caption</th>\n      <th>descripcio_dia_setmana</th>\n      <th>dia_setmana</th>\n      <th>...</th>\n      <th>descripcio_sexe</th>\n      <th>edat</th>\n      <th>descripcio_tipus_persona</th>\n      <th>descripcio_situacio</th>\n      <th>descripcio_victimitzacio</th>\n      <th>coordenada_utm_(x)</th>\n      <th>coordenada_utm_(y)</th>\n      <th>long</th>\n      <th>lat</th>\n      <th>name</th>\n    </tr>\n  </thead>\n  <tbody>\n    <tr>\n      <th>0</th>\n      <td>2016S008630</td>\n      <td>5</td>\n      <td>Sarrià-Sant Gervasi</td>\n      <td>22</td>\n      <td>Vallvidrera, el Tibidabo i les Planes</td>\n      <td>202050</td>\n      <td>Mas Guimbau</td>\n      <td>0001B0001B</td>\n      <td>Dijous</td>\n      <td>Dj</td>\n      <td>...</td>\n      <td>Home</td>\n      <td>29</td>\n      <td>Conductor</td>\n      <td>Presentado</td>\n      <td>Ferit lleu</td>\n      <td>424249,09</td>\n      <td>4586527,04</td>\n      <td>2.092323</td>\n      <td>41.424889</td>\n      <td>2016</td>\n    </tr>\n  </tbody>\n</table>\n<p>1 rows × 29 columns</p>\n</div>"
     },
     "metadata": {},
     "execution_count": 95
    }
   ],
   "source": [
    "def clean_headers(df):\n",
    "    df.columns = df.columns.str.replace(' ', '_').str.replace('\\'', '')\n",
    "    df.rename(columns=lambda c: unidecode.unidecode(c.lower()), inplace=True)\n",
    "    return df\n",
    "\n",
    "accidents_df = [clean_headers(df) for df in accidents_df_list]\n",
    "accidents_df[0].head(1)"
   ]
  },
  {
   "cell_type": "markdown",
   "metadata": {},
   "source": [
    "## Step 2.2: Find inconsistent data among Dataframes rows."
   ]
  },
  {
   "cell_type": "code",
   "execution_count": 278,
   "metadata": {
    "tags": []
   },
   "outputs": [],
   "source": [
    "def clean_col(df, col):\n",
    "    df[col] = df[col].dropna()\n",
    "    return df\n",
    "\n",
    "def delete_multispaces(row):\n",
    "    for index, value in row.items():\n",
    "        if type(value) == str:\n",
    "            value = value.strip()\n",
    "            value = re.sub(r'(?<=[A-Za-z])( +)(?=[A-Za-z])', ' ', value)\n",
    "            row[index] = re.sub(r'(?<=\\d)( +)(?=\\d)?', '', value)\n",
    "    return row\n",
    "\n",
    "cols_name = accidents_df[0].columns\n",
    "col_size = len(accidents_df[0].columns)\n",
    "\n",
    "for df in accidents_df:\n",
    "    null_cols = list(df.columns[df.isna().any()])\n",
    "\n",
    "    for null_col in null_cols:\n",
    "        df = df[(df[null_col].notna()) & (df[null_col].replace(\" \", \"\"))]\n",
    "\n",
    "    del df[\"num_postal_caption\"]\n",
    "\n",
    "    df = df.apply(delete_multispaces)\n",
    "    \n",
    "    df.to_csv(\"out.csv\", encoding='utf-8')"
   ]
  }
 ],
 "metadata": {
  "language_info": {
   "codemirror_mode": {
    "name": "ipython",
    "version": 3
   },
   "file_extension": ".py",
   "mimetype": "text/x-python",
   "name": "python",
   "nbconvert_exporter": "python",
   "pygments_lexer": "ipython3",
   "version": "3.7.7-final"
  },
  "orig_nbformat": 2,
  "kernelspec": {
   "name": "python37764bitbasicdatasciencecondaeeeb3ab0551b40da86cf5cd04fd3dfe8",
   "display_name": "Python 3.7.7 64-bit ('basic_data_science': conda)"
  }
 },
 "nbformat": 4,
 "nbformat_minor": 2
}